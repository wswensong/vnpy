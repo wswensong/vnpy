{
 "cells": [
  {
   "cell_type": "code",
   "execution_count": 1,
   "id": "77a3757f-e1c9-4612-9a59-469bfa9324c4",
   "metadata": {},
   "outputs": [
    {
     "name": "stderr",
     "output_type": "stream",
     "text": [
      "/Users/songwu/wsuong/vnpy/.venv/lib/python3.9/site-packages/urllib3/__init__.py:35: NotOpenSSLWarning: urllib3 v2 only supports OpenSSL 1.1.1+, currently the 'ssl' module is compiled with 'LibreSSL 2.8.3'. See: https://github.com/urllib3/urllib3/issues/3020\n",
      "  warnings.warn(\n"
     ]
    }
   ],
   "source": [
    "from constantDefinition import categories, breedCode, continuousContracts, breedUnits\n",
    "import akshare as ak\n",
    "from mysqlApi import MySQLInterface\n",
    "import json\n",
    "from datetime import datetime as dt\n",
    "\n",
    "def classify_items(items_to_classify):\n",
    "    # 分类结果\n",
    "    classified_items = {}\n",
    "\n",
    "    # 遍历要分类的商品，并将其归入合适的类别\n",
    "    for item in items_to_classify:\n",
    "        found = False\n",
    "        for category, items in categories.items():\n",
    "            if item in items:\n",
    "                if category not in classified_items:\n",
    "                    classified_items[category] = []\n",
    "                classified_items[category].append(item)\n",
    "                found = True\n",
    "                break\n",
    "        if not found:\n",
    "            if \"其他\" not in classified_items:\n",
    "                classified_items[\"其他\"] = []\n",
    "            classified_items[\"其他\"].append(item)\n",
    "\n",
    "    return classified_items\n",
    "\n",
    "def merge_and_rename_keys(data):\n",
    "\n",
    "    if \"锌\" in data and \"沪锌\" in data:\n",
    "        data[\"锌\"] = [a + b for a, b in zip(data[\"锌\"], data[\"沪锌\"])]\n",
    "        del data[\"沪锌\"]\n",
    "    elif \"沪锌\" in data:\n",
    "        data[\"锌\"] = data.pop(\"沪锌\")\n",
    "\n",
    "    # 合并 \"号胶\" 和 \"20号胶\"\n",
    "    if \"号胶\" in data and \"20号胶\" in data:\n",
    "        data[\"20号胶\"] = [a + b for a, b in zip(data[\"号胶\"], data[\"20号胶\"])]\n",
    "        del data[\"号胶\"]\n",
    "    elif \"号胶\" in data:\n",
    "        data[\"20号胶\"] = data.pop(\"号胶\")\n",
    "    return data\n",
    "\n",
    "def clean_data(employees):\n",
    "    \"\"\"\n",
    "    清理员工数据：\n",
    "    - 移除 'id' 字段。\n",
    "    - 保留 'datetime' 字段。\n",
    "    - 对非空 JSON 字符串进行解析。\n",
    "    - 清除值为 '{}' 和 None 的字段。\n",
    "\n",
    "    :param employees: 包含员工数据的列表\n",
    "    :return: 清理后的员工数据列表\n",
    "    \"\"\"\n",
    "    cleaned_employees = [\n",
    "        {key: (json.loads(value) if isinstance(value, str) and value.strip() != '{}' else value) \n",
    "         for key, value in emp.items() \n",
    "         if key != 'id' and value not in ('{}', None)}\n",
    "        for emp in employees\n",
    "    ]\n",
    "    return cleaned_employees"
   ]
  },
  {
   "cell_type": "code",
   "execution_count": 2,
   "id": "c45d113a-5bc3-4fb3-82ef-b9dc4a6cd4ed",
   "metadata": {},
   "outputs": [
    {
     "name": "stdout",
     "output_type": "stream",
     "text": [
      "成功连接到MySQL数据库 position\n",
      "Disconnected from MySQL database\n"
     ]
    }
   ],
   "source": [
    "# memberPositionsValet\n",
    "# db = MySQLInterface(host='101.132.121.208', database='position', user='wsuong', password='Ws,1008351110')\n",
    "db = MySQLInterface(host='localhost', database='position', user='root', password='Ws,1008351110')\n",
    "db.connect()\n",
    "select_query = \"SELECT * FROM memberPositions ORDER BY datetime DESC LIMIT 3;\"\n",
    "employees = db.fetch_data(select_query)\n",
    "db.disconnect()"
   ]
  },
  {
   "cell_type": "code",
   "execution_count": 6,
   "id": "3aa7b9ed-ab22-414c-88c5-8fa5781a6ec7",
   "metadata": {},
   "outputs": [
    {
     "name": "stdout",
     "output_type": "stream",
     "text": [
      "成功连接到MySQL数据库 quotes\n",
      "{'2025-01-27': 5598972.9799999995}\n",
      "{'2025-01-24': 7995400.649999999}\n",
      "{'2025-01-23': 5474231.439999999}\n"
     ]
    }
   ],
   "source": [
    "# with open('officeName.json', 'r', encoding='utf-8') as f:\n",
    "#     officeName = json.load(f).keys()\n",
    "cleaned_employees = clean_data(employees)\n",
    "db = MySQLInterface(host='localhost', database='quotes', user='root', password='Ws,1008351110')\n",
    "db.connect()\n",
    "# select_query = \"SELECT * FROM memberPositions ORDER BY datetime DESC LIMIT 3;\"\n",
    "# employees = db.fetch_data(select_query)\n",
    "for i in cleaned_employees:\n",
    "    date_only_str = str(i['datetime']).split(' ')[0]\n",
    "    member_index_position = {}\n",
    "    member_value = 0\n",
    "    for key, value in i.items():\n",
    "        if key == 'datetime':\n",
    "            continue\n",
    "        clean_value = merge_and_rename_keys(value)\n",
    "        class_value = classify_items(clean_value)\n",
    "        for \n",
    "        if '黑色金属' in class_value:\n",
    "            symbol_position = 0\n",
    "            for j in class_value['黑色金属']:\n",
    "                query = f\"SELECT close FROM {breedCode[j].split('0')[0]} WHERE datetime='{date_only_str}'\"\n",
    "                close = float(db.fetch_data(query)[0]['close'])\n",
    "                symbol_position += (clean_value[j][-2] - clean_value[j][-1]) * breedUnits[j] / 1000 * close\n",
    "        member_value += symbol_position\n",
    "    member_index_position[date_only_str] = member_value\n",
    "    print(member_index_position)\n",
    "# db.disconnect()\n",
    "\n",
    "                "
   ]
  },
  {
   "cell_type": "code",
   "execution_count": null,
   "id": "5e3d04cd-4493-4ab5-ae09-8d4d436f3424",
   "metadata": {},
   "outputs": [],
   "source": []
  }
 ],
 "metadata": {
  "kernelspec": {
   "display_name": "Python 3 (ipykernel)",
   "language": "python",
   "name": "python3"
  },
  "language_info": {
   "codemirror_mode": {
    "name": "ipython",
    "version": 3
   },
   "file_extension": ".py",
   "mimetype": "text/x-python",
   "name": "python",
   "nbconvert_exporter": "python",
   "pygments_lexer": "ipython3",
   "version": "3.9.6"
  }
 },
 "nbformat": 4,
 "nbformat_minor": 5
}
