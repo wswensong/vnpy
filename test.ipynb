{
 "cells": [
  {
   "cell_type": "code",
   "execution_count": 2,
   "metadata": {},
   "outputs": [
    {
     "name": "stdout",
     "output_type": "stream",
     "text": [
      "Connected to MySQL database\n",
      "Data fetched successfully\n",
      "Disconnected from MySQL database\n"
     ]
    }
   ],
   "source": [
    "import json\n",
    "import pandas as pd\n",
    "from mysql_crud import MySQLInterface\n",
    "def is_valid_json(json_str):\n",
    "    \"\"\"检查字符串是否是有效的JSON\"\"\"\n",
    "    try:\n",
    "        json.loads(json_str)\n",
    "        return True\n",
    "    except ValueError:\n",
    "        return False\n",
    "db = MySQLInterface(host='localhost', database='wsuong', user='root', password='Ws,1008351110')\n",
    "db.connect()\n",
    "positionData = db.fetch_data(\"SELECT * FROM (SELECT * FROM memberPositions ORDER BY datetime DESC LIMIT 50) AS subquery ORDER BY datetime ASC;\")\n",
    "db.disconnect()"
   ]
  },
  {
   "cell_type": "code",
   "execution_count": 3,
   "metadata": {},
   "outputs": [],
   "source": [
    "\n",
    "for row in positionData:\n",
    "    for key, value in row.items():\n",
    "        if isinstance(value, str) and is_valid_json(value):\n",
    "            row[key] = json.loads(value)"
   ]
  },
  {
   "cell_type": "code",
   "execution_count": 11,
   "metadata": {},
   "outputs": [
    {
     "name": "stdout",
     "output_type": "stream",
     "text": [
      "          0       1       2      3       4      5     6       7\n",
      "螺纹钢  552032  -15782  191422  27056  224782  -5646  3488   36848\n",
      "螺纹钢  489152  -62880  192750   1328  242412  17630  3158   52820\n",
      "螺纹钢  736592  247440  135059 -57691  284201  41789  1462  150604\n",
      "螺纹钢  661607  -74925  148246  13187  245883 -37568  1865   99502\n",
      "螺纹钢  668693    7086  157322   9076  236162  -9721  2851   81691\n",
      "螺纹钢  397189 -271504  149873  -7449  231020  -5142  2139   83286\n",
      "螺纹钢  489207   92018  148895   -978  221331  -9689  2744   75180\n",
      "螺纹钢  545143   55936  145915  -2980  231091   9760  2502   87678\n",
      "螺纹钢  643334   98191  145275   -640  214042 -17049  2534   71301\n",
      "螺纹钢  441273 -202061  141522  -3753  198128 -15914  2078   58684\n",
      "螺纹钢  452341   11068  130092 -11430  195357  -2771  1627   66892\n",
      "螺纹钢  456826    4485  126163  -3929  198006   2649  1001   72844\n",
      "螺纹钢  461334    4508  137923  11760  203249   5243  1009   66335\n",
      "螺纹钢  409883  -51451  135099  -2824  197317  -5932  1880   64098\n",
      "螺纹钢  290124 -119759  134206   -893  198175    858  2435   66404\n",
      "螺纹钢  437175  147021  126911  -7475  206963   8398  2204   82256\n",
      "螺纹钢  502942   65767  127005    184  226168  19205  1542  100705\n",
      "螺纹钢  627790  124848  134323   7318  241570  15402  1287  108534\n",
      "螺纹钢  564157  -63633  141096   6773  230957 -10613  1238   91099\n",
      "螺纹钢  948421  384354  139120  -1976  194112 -36845  1135   56127\n",
      "螺纹钢  394801 -553620  144103   4983  194376    264  2051   52324\n",
      "螺纹钢  420887   26086  149514   5411  193240  -1136  3038   46764\n",
      "螺纹钢  566556  145669  133671 -15843  206692  13452  2616   75637\n",
      "螺纹钢  417983 -148273  124182  -9489  203356  -3336  2584   81758\n",
      "螺纹钢  343085  -74898  123935   -247  204520   2364  1262   81847\n",
      "螺纹钢  454138  111053  129091   5156  236646  32126  1104  108659\n",
      "螺纹钢  674317  220179  138632   9541  269983  33337   110  131461\n",
      "螺纹钢  314896 -359421  138650     18  271963   1980   168  133481\n",
      "螺纹钢  462480  147584  131551  -7099  260988 -10975    32  129469\n",
      "螺纹钢  384891  -77589  128071  -3480  245787 -15201   303  118019\n",
      "螺纹钢  400453   15562  125188  -2883  246564    777     0  121376\n",
      "螺纹钢  481692   81239  105096  -9678  214583 -21531     0  109487\n",
      "螺纹钢  462632  -19060  100470  -4626  223933   9350     0  123463\n",
      "螺纹钢  455410   -7222  100370  -4582  198841 -25092  5356  103827\n",
      "螺纹钢  373313  -82097   94872  -5498  195481  -7475    84  100693\n",
      "螺纹钢  325214  -41231   92901  -1971  199052   3571   193  106344\n",
      "螺纹钢  459498  131330  101539   3744  228401  24550     0  126862\n",
      "螺纹钢  443615  -18433  112743   6033  262296  19086     0  149553\n",
      "螺纹钢  354516  -88709  111505  -1238  262394     98     0  150889\n",
      "螺纹钢  322933  -31673  115416   3911  274690  12296     0  159274\n",
      "螺纹钢  362684   40261  120407   4991  276821   2131     0  156414\n",
      "螺纹钢  340127  -22557  119761   -346  272674  -4147     0  152913\n",
      "螺纹钢  446303  106176  119297   -464  248271 -24403   162  129136\n",
      "螺纹钢  401206  -45097  135233  15936  258859  10588   354  123980\n",
      "螺纹钢  358846  -42360  156165  20932  249647  -9212   309   93791\n",
      "螺纹钢  424829   66133  171849  15684  235802 -12765   296   64249\n",
      "螺纹钢  491289   66460  174978   3129  210270 -25532   129   35421\n",
      "螺纹钢  439484  -52781  177317  -1373  211136  -2165   647   34466\n",
      "螺纹钢  511416   71932  156005 -21312  205328  -5808  1630   50953\n",
      "螺纹钢  366323 -145093  146075  -9930  197239  -8089  3286   54450\n"
     ]
    }
   ],
   "source": [
    "df = pd.DataFrame(positionData)\n",
    "df = df['国泰君安'].to_list()\n",
    "a = []\n",
    "for i in df:\n",
    "    df_i = pd.DataFrame(i)\n",
    "    a.append(df_i['螺纹钢'])\n",
    "print(pd.DataFrame(a))"
   ]
  },
  {
   "cell_type": "code",
   "execution_count": null,
   "metadata": {},
   "outputs": [],
   "source": []
  },
  {
   "cell_type": "code",
   "execution_count": null,
   "metadata": {},
   "outputs": [],
   "source": []
  },
  {
   "cell_type": "code",
   "execution_count": null,
   "metadata": {},
   "outputs": [],
   "source": []
  },
  {
   "cell_type": "code",
   "execution_count": null,
   "metadata": {},
   "outputs": [],
   "source": []
  },
  {
   "cell_type": "code",
   "execution_count": null,
   "metadata": {},
   "outputs": [],
   "source": []
  },
  {
   "cell_type": "code",
   "execution_count": null,
   "metadata": {},
   "outputs": [],
   "source": []
  },
  {
   "cell_type": "code",
   "execution_count": null,
   "metadata": {},
   "outputs": [],
   "source": []
  }
 ],
 "metadata": {
  "kernelspec": {
   "display_name": ".venv",
   "language": "python",
   "name": "python3"
  },
  "language_info": {
   "codemirror_mode": {
    "name": "ipython",
    "version": 3
   },
   "file_extension": ".py",
   "mimetype": "text/x-python",
   "name": "python",
   "nbconvert_exporter": "python",
   "pygments_lexer": "ipython3",
   "version": "3.9.6"
  }
 },
 "nbformat": 4,
 "nbformat_minor": 2
}
